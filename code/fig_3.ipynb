{
 "cells": [
  {
   "cell_type": "markdown",
   "metadata": {},
   "source": [
    "# Measuring Helbig's requirements for unmarked intertextuality"
   ]
  },
  {
   "cell_type": "markdown",
   "metadata": {},
   "source": [
    "\n",
    "### Imports"
   ]
  },
  {
   "cell_type": "code",
   "execution_count": 22,
   "metadata": {
    "collapsed": false
   },
   "outputs": [],
   "source": [
    "# General\n",
    "import os\n",
    "import glob\n",
    "\n",
    "# Data Analysis\n",
    "import numpy as np\n",
    "import pandas as pd\n",
    "\n",
    "# Visualization\n",
    "import matplotlib.pyplot as plt\n",
    "%matplotlib inline"
   ]
  },
  {
   "cell_type": "markdown",
   "metadata": {},
   "source": [
    "### Variables"
   ]
  },
  {
   "cell_type": "code",
   "execution_count": 23,
   "metadata": {
    "collapsed": false
   },
   "outputs": [],
   "source": [
    "unit = \"line\"\n",
    "data_dir = '../data/' + unit + '/preprocessed/'\n",
    "cutoff = 7"
   ]
  },
  {
   "cell_type": "markdown",
   "metadata": {},
   "source": [
    "### Data"
   ]
  },
  {
   "cell_type": "code",
   "execution_count": 24,
   "metadata": {
    "collapsed": false
   },
   "outputs": [
    {
     "name": "stdout",
     "output_type": "stream",
     "text": [
      "['ovid-amores', 'ovid-ars_amatoria', 'ovid-heroides', 'ovid-medicamina', 'ovid-remedia_amoris', 'propertius-elegies', 'tibullus-elegies', 'vergil-aeneid']\n"
     ]
    }
   ],
   "source": [
    "filenames = np.array(glob.glob(data_dir+'*.csv'))\n",
    "#print(filenames)\n",
    "\n",
    "names = filenames\n",
    "names = [os.path.basename(name) for name in names]\n",
    "names = [os.path.splitext(name)[0] for name in names]\n",
    "names = [name.replace('lucan-','') for name in names]\n",
    "\n",
    "print(names)"
   ]
  },
  {
   "cell_type": "code",
   "execution_count": 25,
   "metadata": {
    "collapsed": false
   },
   "outputs": [],
   "source": [
    "dfs = [pd.read_csv(filename) for filename in filenames]"
   ]
  },
  {
   "cell_type": "code",
   "execution_count": 26,
   "metadata": {
    "collapsed": false
   },
   "outputs": [
    {
     "name": "stdout",
     "output_type": "stream",
     "text": [
      "[2445, 2330, 3970, 100, 814, 3982, 1929, 9896]\n"
     ]
    }
   ],
   "source": [
    "# Works/lines\n",
    "ovid_amores_book_lengths = [763, 812, 870]\n",
    "ovid_ars_book_lengths = [772, 746, 812]\n",
    "ovid_heroides_book_lengths = [116, 148, 154, 176, 150, 166, 198, 120, 168, 152, 130, 214, 160, 130, 220, 378, 268, 218, 210, 244, 250 ]\n",
    "ovid_medicamina_book_lengths = [100]\n",
    "ovid_remedia_book_lengths = [814]\n",
    "propertius_book_lengths = [703, 1359, 986, 934]\n",
    "tibullus_book_lengths = [811, 430, 688]\n",
    "vergil_book_lengths = [756, 804, 718, 705, 871, 901, 817, 731, 818, 908, 915, 952]\n",
    "\n",
    "book_lengths = [sum(ovid_amores_book_lengths),sum(ovid_ars_book_lengths),sum(ovid_heroides_book_lengths),sum(ovid_medicamina_book_lengths),sum(ovid_remedia_book_lengths),sum(propertius_book_lengths),sum(tibullus_book_lengths),sum(vergil_book_lengths)]\n",
    "\n",
    "print(book_lengths)"
   ]
  },
  {
   "cell_type": "code",
   "execution_count": 27,
   "metadata": {
    "collapsed": false
   },
   "outputs": [
    {
     "name": "stdout",
     "output_type": "stream",
     "text": [
      "../data/line/preprocessed/lucan-ovid-amores.csv\n",
      "9966\n",
      "../data/line/preprocessed/lucan-ovid-ars_amatoria.csv\n",
      "9235\n",
      "../data/line/preprocessed/lucan-ovid-heroides.csv\n",
      "18646\n",
      "../data/line/preprocessed/lucan-ovid-medicamina.csv\n",
      "285\n",
      "../data/line/preprocessed/lucan-ovid-remedia_amoris.csv\n",
      "3711\n",
      "../data/line/preprocessed/lucan-propertius-elegies.csv\n",
      "13812\n",
      "../data/line/preprocessed/lucan-tibullus-elegies.csv\n",
      "6860\n",
      "../data/line/preprocessed/lucan-vergil-aeneid.csv\n",
      "46385\n"
     ]
    }
   ],
   "source": [
    "counts = [] \n",
    "for df in dfs: \n",
    "    temp = len(df.index)\n",
    "    counts.append(temp)\n",
    "    \n",
    "for i, text in enumerate(filenames):\n",
    "    print(text)\n",
    "    print(counts[i])"
   ]
  },
  {
   "cell_type": "code",
   "execution_count": 28,
   "metadata": {
    "collapsed": false
   },
   "outputs": [],
   "source": [
    "dfs_cutoff = []\n",
    "\n",
    "for df in dfs:\n",
    "    dfs_cutoff.append(df[df['SCORE'] >= cutoff])"
   ]
  },
  {
   "cell_type": "code",
   "execution_count": 29,
   "metadata": {
    "collapsed": false
   },
   "outputs": [
    {
     "name": "stdout",
     "output_type": "stream",
     "text": [
      "[      SCORE\n",
      "       size\n",
      "SCORE      \n",
      "7      1854\n",
      "8       451\n",
      "9        67\n",
      "10       12,       SCORE\n",
      "       size\n",
      "SCORE      \n",
      "7      1684\n",
      "8       349\n",
      "9        65\n",
      "10        3,       SCORE\n",
      "       size\n",
      "SCORE      \n",
      "7      3139\n",
      "8       734\n",
      "9       169\n",
      "10        5,       SCORE\n",
      "       size\n",
      "SCORE      \n",
      "7        33\n",
      "8         6\n",
      "9         2\n",
      "10        1,       SCORE\n",
      "       size\n",
      "SCORE      \n",
      "7       583\n",
      "8       101\n",
      "9        15\n",
      "10        2,       SCORE\n",
      "       size\n",
      "SCORE      \n",
      "7      2703\n",
      "8       628\n",
      "9       126\n",
      "10       13,       SCORE\n",
      "       size\n",
      "SCORE      \n",
      "7      1472\n",
      "8       358\n",
      "9        51\n",
      "10        6,       SCORE\n",
      "       size\n",
      "SCORE      \n",
      "7      8685\n",
      "8      2116\n",
      "9       564\n",
      "10       86]\n"
     ]
    }
   ],
   "source": [
    "scores = []\n",
    "\n",
    "for df in dfs_cutoff: \n",
    "    temp = df.groupby('SCORE').agg({'SCORE': [np.size]})\n",
    "    scores.append(temp)\n",
    "\n",
    "print(scores)"
   ]
  },
  {
   "cell_type": "code",
   "execution_count": 30,
   "metadata": {
    "collapsed": false
   },
   "outputs": [],
   "source": [
    "results = [list(x) for x in zip(names, book_lengths, dfs_cutoff, scores)]"
   ]
  },
  {
   "cell_type": "code",
   "execution_count": 31,
   "metadata": {
    "collapsed": false
   },
   "outputs": [],
   "source": [
    "for result in results:\n",
    "    result[3]['per_100'] = result[3]['SCORE']['size'].map(lambda x: (x / result[1]) * 100)"
   ]
  },
  {
   "cell_type": "code",
   "execution_count": 32,
   "metadata": {
    "collapsed": true
   },
   "outputs": [],
   "source": [
    "y1 = np.array(results[0][3]['per_100'])\n",
    "y2 = np.array(results[1][3]['per_100'])\n",
    "y3 = np.array(results[2][3]['per_100'])\n",
    "y4 = np.array(results[3][3]['per_100'])\n",
    "y5 = np.array(results[4][3]['per_100'])\n",
    "y6 = np.array(results[5][3]['per_100'])\n",
    "y7 = np.array(results[6][3]['per_100'])\n",
    "y8 = np.array(results[7][3]['per_100'])"
   ]
  },
  {
   "cell_type": "code",
   "execution_count": 33,
   "metadata": {
    "collapsed": false
   },
   "outputs": [
    {
     "name": "stdout",
     "output_type": "stream",
     "text": [
      "[ 75.82822086  18.44580777   2.7402863    0.49079755]\n",
      "[ 72.27467811  14.97854077   2.78969957   0.12875536]\n",
      "[ 79.06801008  18.48866499   4.25692695   0.12594458]\n",
      "[ 33.   6.   2.   1.]\n",
      "[ 71.62162162  12.40786241   1.84275184   0.24570025]\n",
      "[ 67.88046208  15.77096936   3.16423908   0.32646911]\n",
      "[ 76.30896838  18.55883878   2.64385692   0.31104199]\n",
      "[ 87.76273242  21.38237672   5.69927243   0.869038  ]\n"
     ]
    }
   ],
   "source": [
    "print(y1)\n",
    "print(y2)\n",
    "print(y3)\n",
    "print(y4)\n",
    "print(y5)\n",
    "print(y6)\n",
    "print(y7)\n",
    "print(y8)"
   ]
  },
  {
   "cell_type": "code",
   "execution_count": 34,
   "metadata": {
    "collapsed": false
   },
   "outputs": [],
   "source": [
    "ov = np.average([y1,y2,y3,y4,y5],axis=0)\n",
    "prop = y6\n",
    "tib = y7\n",
    "verg = y8"
   ]
  },
  {
   "cell_type": "code",
   "execution_count": 35,
   "metadata": {
    "collapsed": false
   },
   "outputs": [
    {
     "data": {
      "image/png": "[encoded data removed]",
      "text/plain": [
       "<matplotlib.figure.Figure at 0x10e7690b8>"
      ]
     },
     "metadata": {},
     "output_type": "display_data"
    }
   ],
   "source": [
    "N = 4\n",
    "ind = np.arange(N)  # the x locations for the groups\n",
    "width = 0.2       # the width of the bars\n",
    "\n",
    "fig = plt.figure()\n",
    "fig.set_size_inches(15,6)\n",
    "ax = fig.add_subplot(111)\n",
    "\n",
    "rects1 = ax.bar(ind, ov, width, color='w', hatch='O')\n",
    "rects2 = ax.bar(ind+width, prop, width, color='w', hatch='.')\n",
    "rects3 = ax.bar(ind+width*2, tib, width, color='w', hatch='\\\\')\n",
    "rects4 = ax.bar(ind+width*3, verg, width, color='w', hatch='x')\n",
    "#rects5 = ax.bar(ind+width*4, y5, width, color='w', hatch='*')\n",
    "#rects6 = ax.bar(ind+width*5, y6, width, color='w', hatch='o')\n",
    "#rects7 = ax.bar(ind+width*6, y7, width, color='w', hatch='.')\n",
    "#rects8 = ax.bar(ind+width*7, y8, width, color='w', hatch='O')\n",
    "\n",
    "ax.set_title('Tesserae Matches (per 100 lines) for Virgil and Elegists', fontsize = 18, fontweight = 'bold')\n",
    "\n",
    "ax.set_xlabel('Tesserae Score', fontsize = 16)\n",
    "ax.set_ylabel('Matches (per 100 lines)', fontsize = 16)\n",
    "ax.set_xticks(ind+width*2)\n",
    "ax.tick_params(axis='x', labelsize = 14)\n",
    "ax.set_xticklabels( ('7', '8', '9','10') )\n",
    "\n",
    "ax.invert_xaxis()\n",
    "\n",
    "auths = ['Virgil', 'Tibullus', 'Propertius', 'Ovid']\n",
    "\n",
    "ax.legend( (rects4[0], rects3[0], rects2[0], rects1[0]), auths, loc = 2, labelspacing = .75, handlelength = 2, prop={'size':20} )\n",
    "\n",
    "\n",
    "plt.show()"
   ]
  },
  {
   "cell_type": "code",
   "execution_count": null,
   "metadata": {
    "collapsed": true
   },
   "outputs": [],
   "source": []
  }
 ],
 "metadata": {
  "kernelspec": {
   "display_name": "Python 3",
   "language": "python",
   "name": "python3"
  },
  "language_info": {
   "codemirror_mode": {
    "name": "ipython",
    "version": 3
   },
   "file_extension": ".py",
   "mimetype": "text/x-python",
   "name": "python",
   "nbconvert_exporter": "python",
   "pygments_lexer": "ipython3",
   "version": "3.5.2"
  }
 },
 "nbformat": 4,
 "nbformat_minor": 0
}
