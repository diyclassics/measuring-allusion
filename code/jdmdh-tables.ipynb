{
 "cells": [
  {
   "cell_type": "markdown",
   "metadata": {},
   "source": [
    "# Measuring Intergeneric Allusion with Tesserae"
   ]
  },
  {
   "cell_type": "markdown",
   "metadata": {},
   "source": [
    "## Imports"
   ]
  },
  {
   "cell_type": "code",
   "execution_count": 1,
   "metadata": {
    "collapsed": false
   },
   "outputs": [],
   "source": [
    "# General\n",
    "import os\n",
    "import glob\n",
    "\n",
    "# Data Analysis\n",
    "import numpy as np\n",
    "import pandas as pd\n",
    "\n",
    "# Visualization\n",
    "import matplotlib.pyplot as plt\n",
    "%matplotlib inline"
   ]
  },
  {
   "cell_type": "markdown",
   "metadata": {},
   "source": [
    "## Variables"
   ]
  },
  {
   "cell_type": "code",
   "execution_count": 2,
   "metadata": {
    "collapsed": false
   },
   "outputs": [],
   "source": [
    "unit = \"line\"\n",
    "data_dir = '../data/' + unit + '/preprocessed/'\n",
    "cutoff = 7"
   ]
  },
  {
   "cell_type": "markdown",
   "metadata": {},
   "source": [
    "## Data"
   ]
  },
  {
   "cell_type": "code",
   "execution_count": 3,
   "metadata": {
    "collapsed": false
   },
   "outputs": [],
   "source": [
    "filenames = np.array(glob.glob(data_dir+'*.csv'))\n",
    "\n",
    "names = filenames\n",
    "names = [os.path.basename(name) for name in names]\n",
    "names = [os.path.splitext(name)[0] for name in names]\n",
    "names = [name.replace('lucan-','') for name in names]"
   ]
  },
  {
   "cell_type": "code",
   "execution_count": 4,
   "metadata": {
    "collapsed": false
   },
   "outputs": [],
   "source": [
    "dfs = [pd.read_csv(filename) for filename in filenames]\n",
    "vergil_df = dfs[-1]"
   ]
  },
  {
   "cell_type": "code",
   "execution_count": 5,
   "metadata": {
    "collapsed": false
   },
   "outputs": [],
   "source": [
    "# Works/lines\n",
    "ovid_amores_book_lengths = [763, 812, 870]\n",
    "ovid_ars_book_lengths = [772, 746, 812]\n",
    "ovid_heroides_book_lengths = [116, 148, 154, 176, 150, 166, 198, 120, 168, 152, 130, 214, 160, 130, 220, 378, 268, 218, 210, 244, 250 ]\n",
    "ovid_medicamina_book_lengths = [100]\n",
    "ovid_remedia_book_lengths = [814]\n",
    "propertius_book_lengths = [703, 1359, 986, 934]\n",
    "tibullus_book_lengths = [811, 430, 688]\n",
    "vergil_book_lengths = [756, 804, 718, 705, 871, 901, 817, 731, 818, 908, 915, 952]\n",
    "\n",
    "book_lengths = [sum(ovid_amores_book_lengths),sum(ovid_ars_book_lengths),sum(ovid_heroides_book_lengths),sum(ovid_medicamina_book_lengths),sum(ovid_remedia_book_lengths),sum(propertius_book_lengths),sum(tibullus_book_lengths),sum(vergil_book_lengths)]\n",
    "\n",
    "counts = [] \n",
    "for df in dfs: \n",
    "    temp = len(df.index)\n",
    "    counts.append(temp)"
   ]
  },
  {
   "cell_type": "markdown",
   "metadata": {
    "collapsed": true
   },
   "source": [
    "### Table 1"
   ]
  },
  {
   "cell_type": "code",
   "execution_count": 6,
   "metadata": {
    "collapsed": false
   },
   "outputs": [
    {
     "name": "stdout",
     "output_type": "stream",
     "text": [
      "lucan-ovid-amores.csv 9966\n",
      "lucan-ovid-ars_amatoria.csv 9235\n",
      "lucan-ovid-heroides.csv 18646\n",
      "lucan-ovid-medicamina.csv 285\n",
      "lucan-ovid-remedia_amoris.csv 3711\n",
      "lucan-propertius-elegies.csv 13812\n",
      "lucan-tibullus-elegies.csv 6860\n",
      "lucan-vergil-aeneid.csv 46385\n"
     ]
    }
   ],
   "source": [
    "for i, df in enumerate(dfs):\n",
    "    print(os.path.split(filenames[i])[1], len(df))"
   ]
  },
  {
   "cell_type": "markdown",
   "metadata": {
    "collapsed": true
   },
   "source": [
    "### Table 2"
   ]
  },
  {
   "cell_type": "code",
   "execution_count": 7,
   "metadata": {
    "collapsed": false,
    "scrolled": false
   },
   "outputs": [
    {
     "name": "stdout",
     "output_type": "stream",
     "text": [
      "lucan-ovid-amores.csv 2445 9966 407.60736196319016\n",
      "lucan-ovid-ars_amatoria.csv 2330 9235 396.3519313304721\n",
      "lucan-ovid-heroides.csv 3970 18646 469.67254408060455\n",
      "lucan-ovid-medicamina.csv 100 285 285.0\n",
      "lucan-ovid-remedia_amoris.csv 814 3711 455.8968058968059\n",
      "lucan-propertius-elegies.csv 3982 13812 346.86087393269713\n",
      "lucan-tibullus-elegies.csv 1929 6860 355.6246759979264\n",
      "lucan-vergil-aeneid.csv 9896 46385 468.7247372675829\n"
     ]
    }
   ],
   "source": [
    "for i, df in enumerate(dfs):\n",
    "    print(os.path.split(filenames[i])[1], book_lengths[i], len(df), len(df) / book_lengths[i] * 100)"
   ]
  },
  {
   "cell_type": "markdown",
   "metadata": {
    "collapsed": true
   },
   "source": [
    "### Table 3"
   ]
  },
  {
   "cell_type": "code",
   "execution_count": 8,
   "metadata": {
    "collapsed": false
   },
   "outputs": [
    {
     "name": "stdout",
     "output_type": "stream",
     "text": [
      "lucan-ovid-amores.csv SCORE\n",
      "7     75.83\n",
      "8     18.45\n",
      "9      2.74\n",
      "10     0.49\n",
      "Name: size, dtype: float64 \n",
      "\n",
      "lucan-ovid-ars_amatoria.csv SCORE\n",
      "7     72.27\n",
      "8     14.98\n",
      "9      2.79\n",
      "10     0.13\n",
      "Name: size, dtype: float64 \n",
      "\n",
      "lucan-ovid-heroides.csv SCORE\n",
      "7     79.07\n",
      "8     18.49\n",
      "9      4.26\n",
      "10     0.13\n",
      "Name: size, dtype: float64 \n",
      "\n",
      "lucan-ovid-medicamina.csv SCORE\n",
      "7     33\n",
      "8      6\n",
      "9      2\n",
      "10     1\n",
      "Name: size, dtype: float64 \n",
      "\n",
      "lucan-ovid-remedia_amoris.csv SCORE\n",
      "7     71.62\n",
      "8     12.41\n",
      "9      1.84\n",
      "10     0.25\n",
      "Name: size, dtype: float64 \n",
      "\n",
      "lucan-propertius-elegies.csv SCORE\n",
      "7     67.88\n",
      "8     15.77\n",
      "9      3.16\n",
      "10     0.33\n",
      "Name: size, dtype: float64 \n",
      "\n",
      "lucan-tibullus-elegies.csv SCORE\n",
      "7     76.31\n",
      "8     18.56\n",
      "9      2.64\n",
      "10     0.31\n",
      "Name: size, dtype: float64 \n",
      "\n",
      "lucan-vergil-aeneid.csv SCORE\n",
      "7     87.76\n",
      "8     21.38\n",
      "9      5.70\n",
      "10     0.87\n",
      "Name: size, dtype: float64 \n",
      "\n"
     ]
    }
   ],
   "source": [
    "tibullus = dfs[6].loc[dfs[6]['SCORE'] >= cutoff]\n",
    "\n",
    "cutoffs = [df.loc[df['SCORE'] >= cutoff] for df in dfs]\n",
    "scores = [df.groupby('SCORE').agg({'SCORE': [np.size]}) for df in cutoffs]\n",
    "\n",
    "#scores_100\n",
    "\n",
    "scores_100 = []\n",
    "\n",
    "for i, score in enumerate(scores):\n",
    "    score_100 = score['SCORE']['size'].map(lambda x: round((x / book_lengths[i]) * 100,2))\n",
    "    scores_100.append(score_100)\n",
    "\n",
    "#print(scores_100[6])\n",
    "\n",
    "#tibullus_scores['per_100'] = tibullus_scores['SCORE']['size'].map(lambda x: round((x / tibullus_lines) * 100,2))\n",
    "\n",
    "for i, score in enumerate(scores_100):\n",
    "    print(os.path.split(filenames[i])[1], score, '\\n')"
   ]
  }
 ],
 "metadata": {
  "kernelspec": {
   "display_name": "Python 3",
   "language": "python",
   "name": "python3"
  },
  "language_info": {
   "codemirror_mode": {
    "name": "ipython",
    "version": 3
   },
   "file_extension": ".py",
   "mimetype": "text/x-python",
   "name": "python",
   "nbconvert_exporter": "python",
   "pygments_lexer": "ipython3",
   "version": "3.5.2"
  }
 },
 "nbformat": 4,
 "nbformat_minor": 0
}
